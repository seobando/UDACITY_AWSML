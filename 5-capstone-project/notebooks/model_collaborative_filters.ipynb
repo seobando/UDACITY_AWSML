{
 "cells": [
  {
   "cell_type": "code",
   "execution_count": 7,
   "metadata": {},
   "outputs": [],
   "source": [
    "# Import necessary libraries\n",
    "import numpy as np\n",
    "import pandas as pd\n",
    "from scipy.spatial.distance import mahalanobis\n",
    "\n",
    "# Function to calculate Mahalanobis distance\n",
    "def mahalanobis_distance(u, v, VI):\n",
    "    return mahalanobis(u, v, VI)\n",
    "\n",
    "# Collaborative filtering function using Mahalanobis distance\n",
    "def collaborative_filtering(data, user_id, VI):\n",
    "    # Calculate the Mahalanobis distance between the target user and all other users\n",
    "    distances = []\n",
    "    target_user = data.loc[user_id].values\n",
    "    for other_user_id in data.index:\n",
    "        if other_user_id != user_id:\n",
    "            other_user = data.loc[other_user_id].values\n",
    "            distance = mahalanobis_distance(target_user, other_user, VI)\n",
    "            distances.append((other_user_id, distance))\n",
    "    \n",
    "    # Sort distances\n",
    "    distances.sort(key=lambda x: x[1])\n",
    "    \n",
    "    # Return the sorted list of distances\n",
    "    return distances\n"
   ]
  },
  {
   "cell_type": "markdown",
   "metadata": {},
   "source": [
    "## Load"
   ]
  },
  {
   "cell_type": "code",
   "execution_count": 8,
   "metadata": {},
   "outputs": [
    {
     "data": {
      "text/html": [
       "<div>\n",
       "<style scoped>\n",
       "    .dataframe tbody tr th:only-of-type {\n",
       "        vertical-align: middle;\n",
       "    }\n",
       "\n",
       "    .dataframe tbody tr th {\n",
       "        vertical-align: top;\n",
       "    }\n",
       "\n",
       "    .dataframe thead th {\n",
       "        text-align: right;\n",
       "    }\n",
       "</style>\n",
       "<table border=\"1\" class=\"dataframe\">\n",
       "  <thead>\n",
       "    <tr style=\"text-align: right;\">\n",
       "      <th></th>\n",
       "      <th>profile_id</th>\n",
       "      <th>offer_0</th>\n",
       "      <th>offer_1</th>\n",
       "      <th>offer_2</th>\n",
       "      <th>offer_3</th>\n",
       "      <th>offer_4</th>\n",
       "      <th>offer_5</th>\n",
       "      <th>offer_6</th>\n",
       "      <th>offer_7</th>\n",
       "      <th>offer_8</th>\n",
       "      <th>offer_9</th>\n",
       "    </tr>\n",
       "  </thead>\n",
       "  <tbody>\n",
       "    <tr>\n",
       "      <th>0</th>\n",
       "      <td>0009655768c64bdeb2e877511632db8f</td>\n",
       "      <td>0</td>\n",
       "      <td>4</td>\n",
       "      <td>0</td>\n",
       "      <td>4</td>\n",
       "      <td>0</td>\n",
       "      <td>3</td>\n",
       "      <td>0</td>\n",
       "      <td>3</td>\n",
       "      <td>0</td>\n",
       "      <td>0</td>\n",
       "    </tr>\n",
       "    <tr>\n",
       "      <th>1</th>\n",
       "      <td>00116118485d4dfda04fdbaba9a87b5c</td>\n",
       "      <td>0</td>\n",
       "      <td>0</td>\n",
       "      <td>0</td>\n",
       "      <td>8</td>\n",
       "      <td>0</td>\n",
       "      <td>0</td>\n",
       "      <td>0</td>\n",
       "      <td>0</td>\n",
       "      <td>0</td>\n",
       "      <td>0</td>\n",
       "    </tr>\n",
       "    <tr>\n",
       "      <th>2</th>\n",
       "      <td>0011e0d4e6b944f998e987f904e8c1e5</td>\n",
       "      <td>4</td>\n",
       "      <td>0</td>\n",
       "      <td>0</td>\n",
       "      <td>0</td>\n",
       "      <td>0</td>\n",
       "      <td>3</td>\n",
       "      <td>3</td>\n",
       "      <td>3</td>\n",
       "      <td>0</td>\n",
       "      <td>2</td>\n",
       "    </tr>\n",
       "    <tr>\n",
       "      <th>3</th>\n",
       "      <td>0020c2b971eb4e9188eac86d93036a77</td>\n",
       "      <td>0</td>\n",
       "      <td>4</td>\n",
       "      <td>4</td>\n",
       "      <td>0</td>\n",
       "      <td>0</td>\n",
       "      <td>3</td>\n",
       "      <td>0</td>\n",
       "      <td>0</td>\n",
       "      <td>0</td>\n",
       "      <td>0</td>\n",
       "    </tr>\n",
       "    <tr>\n",
       "      <th>4</th>\n",
       "      <td>0020ccbbb6d84e358d3414a3ff76cffd</td>\n",
       "      <td>4</td>\n",
       "      <td>0</td>\n",
       "      <td>0</td>\n",
       "      <td>4</td>\n",
       "      <td>0</td>\n",
       "      <td>3</td>\n",
       "      <td>3</td>\n",
       "      <td>0</td>\n",
       "      <td>0</td>\n",
       "      <td>0</td>\n",
       "    </tr>\n",
       "  </tbody>\n",
       "</table>\n",
       "</div>"
      ],
      "text/plain": [
       "                         profile_id  offer_0  offer_1  offer_2  offer_3  \\\n",
       "0  0009655768c64bdeb2e877511632db8f        0        4        0        4   \n",
       "1  00116118485d4dfda04fdbaba9a87b5c        0        0        0        8   \n",
       "2  0011e0d4e6b944f998e987f904e8c1e5        4        0        0        0   \n",
       "3  0020c2b971eb4e9188eac86d93036a77        0        4        4        0   \n",
       "4  0020ccbbb6d84e358d3414a3ff76cffd        4        0        0        4   \n",
       "\n",
       "   offer_4  offer_5  offer_6  offer_7  offer_8  offer_9  \n",
       "0        0        3        0        3        0        0  \n",
       "1        0        0        0        0        0        0  \n",
       "2        0        3        3        3        0        2  \n",
       "3        0        3        0        0        0        0  \n",
       "4        0        3        3        0        0        0  "
      ]
     },
     "execution_count": 8,
     "metadata": {},
     "output_type": "execute_result"
    }
   ],
   "source": [
    "features = pd.read_csv(\"../data/features/user_item.csv\")\n",
    "features.head()"
   ]
  },
  {
   "cell_type": "markdown",
   "metadata": {},
   "source": [
    "## Train"
   ]
  },
  {
   "cell_type": "code",
   "execution_count": 9,
   "metadata": {},
   "outputs": [
    {
     "name": "stdout",
     "output_type": "stream",
     "text": [
      "Distances from user 1 to other users:\n",
      "User 3: 2.4494897427831317\n",
      "User 4: 2.4494897427831317\n",
      "User 2: 2.4494897427832827\n"
     ]
    }
   ],
   "source": [
    "# Sample data\n",
    "data = pd.DataFrame({\n",
    "    'user_id': [1, 2, 3, 4],\n",
    "    'item_1': [5, 4, 1, 2],\n",
    "    'item_2': [3, 2, 5, 1],\n",
    "    'item_3': [1, 2, 3, 4]\n",
    "}).set_index('user_id')\n",
    "\n",
    "# Calculate the inverse covariance matrix\n",
    "VI = np.linalg.inv(np.cov(data.T))\n",
    "\n",
    "# Use the collaborative filtering function\n",
    "user_id = 1\n",
    "distances = collaborative_filtering(data, user_id, VI)\n",
    "\n",
    "# Display the results\n",
    "print(\"Distances from user\", user_id, \"to other users:\")\n",
    "for other_user_id, distance in distances:\n",
    "    print(f\"User {other_user_id}: {distance}\")"
   ]
  },
  {
   "cell_type": "code",
   "execution_count": null,
   "metadata": {},
   "outputs": [],
   "source": []
  }
 ],
 "metadata": {
  "kernelspec": {
   "display_name": "Python 3",
   "language": "python",
   "name": "python3"
  },
  "language_info": {
   "codemirror_mode": {
    "name": "ipython",
    "version": 3
   },
   "file_extension": ".py",
   "mimetype": "text/x-python",
   "name": "python",
   "nbconvert_exporter": "python",
   "pygments_lexer": "ipython3",
   "version": "3.10.16"
  }
 },
 "nbformat": 4,
 "nbformat_minor": 2
}
